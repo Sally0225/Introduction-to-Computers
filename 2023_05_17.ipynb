{
  "nbformat": 4,
  "nbformat_minor": 0,
  "metadata": {
    "colab": {
      "provenance": [],
      "authorship_tag": "ABX9TyPdE/KRFDJIVK3qk5AKWkSs",
      "include_colab_link": true
    },
    "kernelspec": {
      "name": "python3",
      "display_name": "Python 3"
    },
    "language_info": {
      "name": "python"
    }
  },
  "cells": [
    {
      "cell_type": "markdown",
      "metadata": {
        "id": "view-in-github",
        "colab_type": "text"
      },
      "source": [
        "<a href=\"https://colab.research.google.com/github/Sally0225/Introduction-to-Computers/blob/main/2023_05_17.ipynb\" target=\"_parent\"><img src=\"https://colab.research.google.com/assets/colab-badge.svg\" alt=\"Open In Colab\"/></a>"
      ]
    },
    {
      "cell_type": "code",
      "execution_count": 1,
      "metadata": {
        "id": "CEXQSWoxxR0v",
        "colab": {
          "base_uri": "https://localhost:8080/"
        },
        "outputId": "781526ae-bd6a-457a-d69e-4170a2aa3b26"
      },
      "outputs": [
        {
          "output_type": "stream",
          "name": "stdout",
          "text": [
            "0517\n"
          ]
        }
      ],
      "source": [
        "print(\"0517\")"
      ]
    },
    {
      "cell_type": "code",
      "source": [
        "score = int(input(\"score: \"))\n",
        "if score >= 90:\n",
        "  print(\"Grade is : A\")\n",
        "elif score >= 80:\n",
        "  print(\"Grade is : B\")\n",
        "elif score >= 70:\n",
        "  print(\"Grade is : C\")\n",
        "elif score >= 60:\n",
        "  print(\"Grade is : D\")\n",
        "else:\n",
        "  print(\"Grade is : F\")"
      ],
      "metadata": {
        "colab": {
          "base_uri": "https://localhost:8080/"
        },
        "id": "pmSp5ddhyvLo",
        "outputId": "e1ab420a-f2a9-4540-8026-2d3bf2ebcce4"
      },
      "execution_count": 2,
      "outputs": [
        {
          "output_type": "stream",
          "name": "stdout",
          "text": [
            "score: 50\n",
            "Grade is : F\n"
          ]
        }
      ]
    },
    {
      "cell_type": "code",
      "source": [
        "rain = input(\"今天會下雨嗎?\")\n",
        "if (rain == \"Y\" or rain == \"y\"):\n",
        "  print(\"出門記得帶傘!\")\n",
        "elif (rain == \"N\" or rain == \"n\"):\n",
        "  print(\"出門記得帶傘!\")\n",
        "else:\n",
        "  print(\"請重新輸入!\")"
      ],
      "metadata": {
        "colab": {
          "base_uri": "https://localhost:8080/"
        },
        "id": "_dAQY-Wdzyyb",
        "outputId": "389f0bf3-6dd5-4140-e41f-218395792e70"
      },
      "execution_count": 3,
      "outputs": [
        {
          "output_type": "stream",
          "name": "stdout",
          "text": [
            "今天會下雨嗎?K\n",
            "請重新輸入!\n"
          ]
        }
      ]
    },
    {
      "cell_type": "code",
      "source": [
        "temperature = float(input(\"請輸入體溫:\"))\n",
        "if temperature >= 37.5:\n",
        "  print(\"體溫過高!\")\n",
        "elif 37 < temperature < 37.4:\n",
        "  print(\"體溫略高!\")\n",
        "elif 34 < temperature < 36.9:\n",
        "  print(\"體溫正常!\")\n",
        "else:\n",
        "  print(\"體溫異常，請重新測量!\")"
      ],
      "metadata": {
        "colab": {
          "base_uri": "https://localhost:8080/"
        },
        "id": "2oTiZpzx1Qly",
        "outputId": "4781d702-8f36-4cd4-a25b-2fa59a4eaf2f"
      },
      "execution_count": 4,
      "outputs": [
        {
          "output_type": "stream",
          "name": "stdout",
          "text": [
            "請輸入體溫:33.9\n",
            "體溫異常，請重新測量!\n"
          ]
        }
      ]
    },
    {
      "cell_type": "code",
      "source": [
        "score = int(input(\"score: \"))\n",
        "if score >= 90:\n",
        "  print(\"A\")\n",
        "elif 80 <= score <= 89 :\n",
        "  print(\"B\")\n",
        "elif 70 <= score <= 79:\n",
        "  print(\"C\")\n",
        "elif 60 <= score <= 69:\n",
        "  print(\"D\")\n",
        "else:\n",
        "  print(\"E\")"
      ],
      "metadata": {
        "colab": {
          "base_uri": "https://localhost:8080/"
        },
        "id": "JC7ow3Ag2cSy",
        "outputId": "f00fb7af-c7e6-49c3-bca2-178ec714294f"
      },
      "execution_count": 5,
      "outputs": [
        {
          "output_type": "stream",
          "name": "stdout",
          "text": [
            "score: 90\n",
            "A\n"
          ]
        }
      ]
    },
    {
      "cell_type": "code",
      "source": [
        "score = int(input(\"score: \"))\n",
        "if score >= 90:\n",
        "  print(\"A\")\n",
        "elif 80 <= score <= 89 :\n",
        "  print(\"B\")\n",
        "elif 70 <= score <= 79:\n",
        "  print(\"C\")\n",
        "elif 60 <= score <= 69:\n",
        "  print(\"D\")\n",
        "else:\n",
        "  print(\"E\")"
      ],
      "metadata": {
        "colab": {
          "base_uri": "https://localhost:8080/"
        },
        "id": "0BRZVghc3JP9",
        "outputId": "227fd112-5797-4974-eb07-c103af875be9"
      },
      "execution_count": 6,
      "outputs": [
        {
          "output_type": "stream",
          "name": "stdout",
          "text": [
            "score: 80\n",
            "B\n"
          ]
        }
      ]
    },
    {
      "cell_type": "code",
      "source": [
        "score = int(input(\"score: \"))\n",
        "if score >= 90:\n",
        "  print(\"A\")\n",
        "elif 80 <= score <= 89 :\n",
        "  print(\"B\")\n",
        "elif 70 <= score <= 79:\n",
        "  print(\"C\")\n",
        "elif 60 <= score <= 69:\n",
        "  print(\"D\")\n",
        "else:\n",
        "  print(\"E\")"
      ],
      "metadata": {
        "colab": {
          "base_uri": "https://localhost:8080/"
        },
        "id": "sGZ4XTZO3M1t",
        "outputId": "7829e897-3d0c-4a59-c3bf-98915b2b816d"
      },
      "execution_count": 8,
      "outputs": [
        {
          "output_type": "stream",
          "name": "stdout",
          "text": [
            "score: 50\n",
            "E\n"
          ]
        }
      ]
    },
    {
      "cell_type": "code",
      "source": [
        "month = int(input(\"month: \"))\n",
        "if 3 <= month <= 5 :\n",
        "  print(\"是春天!\")\n",
        "elif 6 <= month <= 8 :\n",
        "  print(\"是夏天!\")\n",
        "elif 9 <= month <= 11:\n",
        "  print(\"是秋天!\")\n",
        "elif ( month == 12 or 1 <= month <= 2):\n",
        "  print(\"是冬天!\")\n",
        "else:\n",
        "  print(\"月份不在範圍內!\")"
      ],
      "metadata": {
        "colab": {
          "base_uri": "https://localhost:8080/"
        },
        "id": "HnH5wu8E3PCO",
        "outputId": "cb013e3a-aa0d-4cb3-f304-48f4245e89f7"
      },
      "execution_count": 10,
      "outputs": [
        {
          "output_type": "stream",
          "name": "stdout",
          "text": [
            "month: 3\n",
            "是春天!\n"
          ]
        }
      ]
    },
    {
      "cell_type": "code",
      "source": [
        "month = int(input(\"month: \"))\n",
        "if 3 <= month <= 5 :\n",
        "  print(\"是春天!\")\n",
        "elif 6 <= month <= 8 :\n",
        "  print(\"是夏天!\")\n",
        "elif 9 <= month <= 11:\n",
        "  print(\"是秋天!\")\n",
        "elif ( month == 12 or 1 <= month <= 2):\n",
        "  print(\"是冬天!\")\n",
        "else:\n",
        "  print(\"月份不在範圍內!\")"
      ],
      "metadata": {
        "colab": {
          "base_uri": "https://localhost:8080/"
        },
        "id": "1R8QxNrW4mm2",
        "outputId": "b717e5ac-89a3-4fe6-9251-be06327f9dd7"
      },
      "execution_count": 11,
      "outputs": [
        {
          "output_type": "stream",
          "name": "stdout",
          "text": [
            "month: 6\n",
            "是夏天!\n"
          ]
        }
      ]
    },
    {
      "cell_type": "code",
      "source": [
        "month = int(input(\"month: \"))\n",
        "if 3 <= month <= 5 :\n",
        "  print(\"是春天!\")\n",
        "elif 6 <= month <= 8 :\n",
        "  print(\"是夏天!\")\n",
        "elif 9 <= month <= 11:\n",
        "  print(\"是秋天!\")\n",
        "elif ( month == 12 or 1 <= month <= 2):\n",
        "  print(\"是冬天!\")\n",
        "else:\n",
        "  print(\"月份不在範圍內!\")"
      ],
      "metadata": {
        "colab": {
          "base_uri": "https://localhost:8080/"
        },
        "id": "xNbhb-QX49Z2",
        "outputId": "2077e39c-a943-4357-f0f5-6bfa0457ab10"
      },
      "execution_count": 12,
      "outputs": [
        {
          "output_type": "stream",
          "name": "stdout",
          "text": [
            "month: 11\n",
            "是秋天!\n"
          ]
        }
      ]
    },
    {
      "cell_type": "code",
      "source": [
        "month = int(input(\"month: \"))\n",
        "if 3 <= month <= 5 :\n",
        "  print(\"是春天!\")\n",
        "elif 6 <= month <= 8 :\n",
        "  print(\"是夏天!\")\n",
        "elif 9 <= month <= 11:\n",
        "  print(\"是秋天!\")\n",
        "elif ( month == 12 or 1 <= month <= 2):\n",
        "  print(\"是冬天!\")\n",
        "else:\n",
        "  print(\"月份不在範圍內!\")"
      ],
      "metadata": {
        "colab": {
          "base_uri": "https://localhost:8080/"
        },
        "id": "xfQk-Hz34-8B",
        "outputId": "82c030cb-b50b-48ca-8191-665afc42d5de"
      },
      "execution_count": 13,
      "outputs": [
        {
          "output_type": "stream",
          "name": "stdout",
          "text": [
            "month: 12\n",
            "是冬天!\n"
          ]
        }
      ]
    },
    {
      "cell_type": "code",
      "source": [
        "month = int(input(\"month: \"))\n",
        "if 3 <= month <= 5 :\n",
        "  print(\"是春天!\")\n",
        "elif 6 <= month <= 8 :\n",
        "  print(\"是夏天!\")\n",
        "elif 9 <= month <= 11:\n",
        "  print(\"是秋天!\")\n",
        "elif ( month == 12 or 1 <= month <= 2):\n",
        "  print(\"是冬天!\")\n",
        "else:\n",
        "  print(\"月份不在範圍內!\")"
      ],
      "metadata": {
        "colab": {
          "base_uri": "https://localhost:8080/"
        },
        "id": "oiWm95IB5BcO",
        "outputId": "6696b205-f46a-4a07-8526-4c62f7b8f05a"
      },
      "execution_count": 14,
      "outputs": [
        {
          "output_type": "stream",
          "name": "stdout",
          "text": [
            "month: 20\n",
            "月份不在範圍內!\n"
          ]
        }
      ]
    },
    {
      "cell_type": "code",
      "source": [
        "income = int(input(\"請輸入今年收入淨額:\"))\n",
        "if income >= 2000000:\n",
        "  print(income * 0.3)\n",
        "elif income >= 1000000:\n",
        "  print(income * 0.21)\n",
        "elif income >= 600000:\n",
        "  print(income * 0.13)\n",
        "elif income >= 300000:\n",
        "  print(income * 0.06)\n",
        "else:\n",
        "  print(income * 0)"
      ],
      "metadata": {
        "colab": {
          "base_uri": "https://localhost:8080/"
        },
        "id": "Knkyisft5EhY",
        "outputId": "7777cd9f-e22a-4f85-a583-0289a3b52850"
      },
      "execution_count": 24,
      "outputs": [
        {
          "output_type": "stream",
          "name": "stdout",
          "text": [
            "請輸入今年收入淨額:10000\n",
            "0\n"
          ]
        }
      ]
    },
    {
      "cell_type": "code",
      "source": [
        "income = int(input(\"請輸入今年收入淨額:\"))\n",
        "if income >= 2000000:\n",
        "  print(income * 0.3)\n",
        "elif income >= 1000000:\n",
        "  print(income * 0.21)\n",
        "elif income >= 600000:\n",
        "  print(income * 0.13)\n",
        "elif income >= 300000:\n",
        "  print(income * 0.06)\n",
        "else:\n",
        "  print(income * 0)"
      ],
      "metadata": {
        "colab": {
          "base_uri": "https://localhost:8080/"
        },
        "id": "bNODdCja6sd1",
        "outputId": "cafa829c-5335-4cd3-ad4a-4304b696eab1"
      },
      "execution_count": 19,
      "outputs": [
        {
          "output_type": "stream",
          "name": "stdout",
          "text": [
            "請輸入今年收入淨額:2000000\n",
            "600000.0\n"
          ]
        }
      ]
    },
    {
      "cell_type": "code",
      "source": [],
      "metadata": {
        "id": "w4GZmfBA6-Mc"
      },
      "execution_count": null,
      "outputs": []
    }
  ]
}